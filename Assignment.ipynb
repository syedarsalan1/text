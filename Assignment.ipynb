{
 "cells": [
  {
   "cell_type": "markdown",
   "metadata": {},
   "source": [
    "\n",
    "# Name : Syed Arsalan Hider\n",
    "# Father Name : Syed Zulfiqar haider\n",
    "# Teacher : Sir Muhammad Qasim\n",
    "# Roll No: AIC040326\n",
    "# Institute : Sindh boys scout association\n",
    "# Day & Time: Sunday - 6:45 PM to 9:45 PM\n"
   ]
  },
  {
   "cell_type": "code",
   "execution_count": 1,
   "metadata": {},
   "outputs": [
    {
     "name": "stdout",
     "output_type": "stream",
     "text": [
      "Input Radius: 23\n",
      "Area of Circle with radius 23.0 is: 1661.9025137490005\n"
     ]
    }
   ],
   "source": [
    "# 1. Calculate Area of a Circle\n",
    "# Write a Python program which accepts the radius of a circle from the user and compute the area.\n",
    "# Program Console Sample Output 1:\n",
    "\n",
    "from math import pi\n",
    "r = float(input (\"Input Radius: \"))\n",
    "print (\"Area of Circle with radius \" + str(r) + \" is: \" + str(pi * r**2))"
   ]
  },
  {
   "cell_type": "code",
   "execution_count": 2,
   "metadata": {},
   "outputs": [
    {
     "name": "stdout",
     "output_type": "stream",
     "text": [
      "Enter Number: -1\n",
      "Negative Number Entered\n"
     ]
    }
   ],
   "source": [
    "# 2. Check Number either positive, negative or zero\n",
    "# Write a Python program to check if a number is positive, negative or zero\n",
    "# Program Console Sample Output 1:\n",
    " \n",
    "num = float(input(\"Enter Number: \"))\n",
    "if num > 0:\n",
    "   print(\"Positive Number Entered\")\n",
    "elif num == 0:\n",
    "   print(\"Zero Entered\")\n",
    "else:\n",
    "   print(\"Negative Number Entered\")"
   ]
  },
  {
   "cell_type": "code",
   "execution_count": 3,
   "metadata": {},
   "outputs": [
    {
     "name": "stdout",
     "output_type": "stream",
     "text": [
      "Enter Number: 3\n",
      "Positive Number Entered\n"
     ]
    }
   ],
   "source": [
    "# 2. Check Number either positive, negative or zero\n",
    "# Write a Python program to check if a number is positive, negative or zero\n",
    "# Program Console Sample Output 2:\n",
    " \n",
    "num = float(input(\"Enter Number: \"))\n",
    "if num > 0:\n",
    "   print(\"Positive Number Entered\")\n",
    "elif num == 0:\n",
    "   print(\"Zero Entered\")\n",
    "else:\n",
    "   print(\"Negative Number Entered\")"
   ]
  },
  {
   "cell_type": "code",
   "execution_count": 4,
   "metadata": {},
   "outputs": [
    {
     "name": "stdout",
     "output_type": "stream",
     "text": [
      "Enter Number: 0\n",
      "Zero Entered\n"
     ]
    }
   ],
   "source": [
    "# 2. Check Number either positive, negative or zero\n",
    "# Write a Python program to check if a number is positive, negative or zero\n",
    "# Program Console Sample Output 3:\n",
    " \n",
    "num = float(input(\"Enter Number: \"))\n",
    "if num > 0:\n",
    "   print(\"Positive Number Entered\")\n",
    "elif num == 0:\n",
    "   print(\"Zero Entered\")\n",
    "else:\n",
    "   print(\"Negative Number Entered\")"
   ]
  },
  {
   "cell_type": "code",
   "execution_count": 5,
   "metadata": {},
   "outputs": [
    {
     "name": "stdout",
     "output_type": "stream",
     "text": [
      "Enter numerator: 4\n",
      "Enter Denominator: 2\n",
      "Number 4 is Completely divisible by 2\n"
     ]
    }
   ],
   "source": [
    "# 3. Divisibility Check of two numbers\n",
    "# Write a Python program to check whether a number is completely divisible by another number. Accept two integer values form the user.\n",
    "# Program Console Sample Output 1:\n",
    "\n",
    "c = int(input(\"Enter numerator: \"))\n",
    "d = int(input(\"Enter Denominator: \"))\n",
    "if c % d  == 0:\n",
    "    print(\"Number\", c , \"is Completely divisible by\", d)\n",
    "else:\n",
    "     print(\"Number\", c , \"is not Completely divisible by\", d)"
   ]
  },
  {
   "cell_type": "code",
   "execution_count": 6,
   "metadata": {},
   "outputs": [
    {
     "name": "stdout",
     "output_type": "stream",
     "text": [
      "Enter numerator: 7\n",
      "Enter Denominator: 4\n",
      "Number 7 is not Completely divisible by 4\n"
     ]
    }
   ],
   "source": [
    "# 3. Divisibility Check of two numbers\n",
    "# Write a Python program to check whether a number is completely divisible by another number. Accept two integer values form the user.\n",
    "# Program Console Sample Output 2:\n",
    "\n",
    "c = int(input(\"Enter numerator: \"))\n",
    "d = int(input(\"Enter Denominator: \"))\n",
    "if c % d  == 0:\n",
    "    print(\"Number\", c , \"is Completely divisible by\", d)\n",
    "else:\n",
    "     print(\"Number\", c , \"is not Completely divisible by\", d)"
   ]
  },
  {
   "cell_type": "code",
   "execution_count": 7,
   "metadata": {},
   "outputs": [
    {
     "name": "stdout",
     "output_type": "stream",
     "text": [
      "Enter a date in (dd/mm/yy) format: 12/12/2018\n",
      "Enter a date in (dd/mm/yy) format: 16/12/2018\n",
      "There are 4 days in between 12/12/2018 and 16/12/2018\n"
     ]
    }
   ],
   "source": [
    "# 4. Days Calculator\n",
    "# Write a Python program to calculate number of days between two dates\n",
    "# Program Console Sample Output 1:\n",
    "\n",
    "from datetime import datetime\n",
    "date_format = \"%d/%m/%Y\"\n",
    "e = input(\"Enter a date in (dd/mm/yy) format: \")\n",
    "f = input(\"Enter a date in (dd/mm/yy) format: \")\n",
    "a = datetime.strptime( e , date_format)\n",
    "b = datetime.strptime( f , date_format)\n",
    "delta = b - a\n",
    "print (\"There are\", delta.days, \"days in between\", e , \"and\" , f)"
   ]
  },
  {
   "cell_type": "code",
   "execution_count": 8,
   "metadata": {},
   "outputs": [
    {
     "name": "stdout",
     "output_type": "stream",
     "text": [
      "Enter Radius of Sphere: 1\n",
      "Volume of the Sphere with Radius 1 is: 4.1887902053333335\n"
     ]
    }
   ],
   "source": [
    "# 5. Calculate Volume of a sphere\n",
    "# Write a Python program to get the volume of a sphere, please take the radius as input from user\n",
    "# Program Console Sample Output 1:\n",
    "\n",
    "a = int(input(\"Enter Radius of Sphere: \"))\n",
    "print(\"Volume of the Sphere with Radius\" , a , \"is:\", 4 / 3 * 3.141592654 * a * a * a)"
   ]
  },
  {
   "cell_type": "code",
   "execution_count": 9,
   "metadata": {},
   "outputs": [
    {
     "name": "stdout",
     "output_type": "stream",
     "text": [
      "Enter String: Hi\n",
      "How many copies of String you need: 4\n",
      "4 Copies of Hi are : HiHiHiHi\n"
     ]
    }
   ],
   "source": [
    "# 6. Copy string n times\n",
    "# Write a Python program to get a string which is n (non-negative integer) copies of a given string.\n",
    "# Program Console Sample Output 1:\n",
    "\n",
    "e = str(input(\"Enter String: \"))\n",
    "b = int(input(\"How many copies of String you need: \"))\n",
    "if b > 0:\n",
    "    print(b,\"Copies of\", e , \"are :\" , b * e)        \n",
    "else:\n",
    "    print(\"Invalid String or Number of copies:\")"
   ]
  },
  {
   "cell_type": "code",
   "execution_count": 10,
   "metadata": {},
   "outputs": [
    {
     "name": "stdout",
     "output_type": "stream",
     "text": [
      "Enter Number: 4\n",
      "4 is Even\n"
     ]
    }
   ],
   "source": [
    "# 7. Check if number is Even or Odd\n",
    "# Write a Python program to find whether a given number (accept from the user) is even or odd, print out an appropriate message to the user\n",
    "# Program Console Sample Output 1:\n",
    "\n",
    "num = int(input(\"Enter Number: \"))\n",
    "mod = num % 2\n",
    "if mod > 0:\n",
    "    print(num, \"is Odd\")\n",
    "else:\n",
    "    print(num, \"is Even\")"
   ]
  },
  {
   "cell_type": "code",
   "execution_count": 11,
   "metadata": {},
   "outputs": [
    {
     "name": "stdout",
     "output_type": "stream",
     "text": [
      "Enter Number: 9\n",
      "9 is Odd\n"
     ]
    }
   ],
   "source": [
    "# 7. Check if number is Even or Odd\n",
    "# Write a Python program to find whether a given number (accept from the user) is even or odd, print out an appropriate message to the user\n",
    "# Program Console Sample Output 2:\n",
    "\n",
    "num = int(input(\"Enter Number: \"))\n",
    "mod = num % 2\n",
    "if mod > 0:\n",
    "    print(num, \"is Odd\")\n",
    "else:\n",
    "    print(num, \"is Even\")"
   ]
  },
  {
   "cell_type": "code",
   "execution_count": 12,
   "metadata": {},
   "outputs": [
    {
     "name": "stdout",
     "output_type": "stream",
     "text": [
      "Enter a character: A\n",
      "Letter A is Vowel.\n"
     ]
    }
   ],
   "source": [
    "# 8. Vowel Tester\n",
    "# Write a Python program to test whether a passed letter is a vowel or not\n",
    "# Program Console Sample Output 1:\n",
    "\n",
    "a = input(\"Enter a character: \")\n",
    "\n",
    "if a in ('a', 'A', 'e', 'E', 'i', 'I', 'o', 'O', 'u', 'U'):\n",
    "    print(\"Letter\", a, \"is Vowel.\")\n",
    "else:\n",
    "    print(\"Letter\", a, \"is not Vowel.\")"
   ]
  },
  {
   "cell_type": "code",
   "execution_count": 13,
   "metadata": {},
   "outputs": [
    {
     "name": "stdout",
     "output_type": "stream",
     "text": [
      "Enter a character: e\n",
      "Letter e is Vowel.\n"
     ]
    }
   ],
   "source": [
    "# 8. Vowel Tester\n",
    "# Write a Python program to test whether a passed letter is a vowel or not\n",
    "# Program Console Sample Output 1:\n",
    "\n",
    "a = input(\"Enter a character: \")\n",
    "\n",
    "if a in ('a', 'A', 'e', 'E', 'i', 'I', 'o', 'O', 'u', 'U'):\n",
    "    print(\"Letter\", a, \"is Vowel.\")\n",
    "else:\n",
    "    print(\"Letter\", a, \"is not Vowel.\")"
   ]
  },
  {
   "cell_type": "code",
   "execution_count": 14,
   "metadata": {},
   "outputs": [
    {
     "name": "stdout",
     "output_type": "stream",
     "text": [
      "Enter a character: N\n",
      "Letter N is not Vowel.\n"
     ]
    }
   ],
   "source": [
    "# 8. Vowel Tester\n",
    "# Write a Python program to test whether a passed letter is a vowel or not\n",
    "# Program Console Sample Output 1:\n",
    "\n",
    "a = input(\"Enter a character: \")\n",
    "\n",
    "if a in ('a', 'A', 'e', 'E', 'i', 'I', 'o', 'O', 'u', 'U'):\n",
    "    print(\"Letter\", a, \"is Vowel.\")\n",
    "else:\n",
    "    print(\"Letter\", a, \"is not Vowel.\")"
   ]
  },
  {
   "cell_type": "code",
   "execution_count": 15,
   "metadata": {},
   "outputs": [
    {
     "name": "stdout",
     "output_type": "stream",
     "text": [
      "Enter magnitude of Triangle base: 4\n",
      "Enter Magnitude of Triangle Height: 4\n",
      "Area of a Triangle with Height 4 and Base 4 is 8\n"
     ]
    }
   ],
   "source": [
    "# 9. Triangle area\n",
    "# Write a Python program that will accept the base and height of a triangle and compute the area\n",
    "# Program Console Sample Output 1:\n",
    "\n",
    "b = int(input(\"Enter magnitude of Triangle base: \"))\n",
    "h = int(input(\"Enter Magnitude of Triangle Height: \"))\n",
    "\n",
    "area = int(b*h/2)\n",
    "\n",
    "print(\"Area of a Triangle with Height\", h, \"and Base\", b, \"is\", area)"
   ]
  },
  {
   "cell_type": "code",
   "execution_count": 16,
   "metadata": {},
   "outputs": [
    {
     "name": "stdout",
     "output_type": "stream",
     "text": [
      "Please enter principal amount: 10000\n",
      "Please Enter Rate of interest in %: 0.1\n",
      "Enter number of years for investment: 5\n",
      "After 5 years your principal amount 10000 over an interest rate of 0.1 % will be 16105.1\n"
     ]
    }
   ],
   "source": [
    "# 10. Calculate Interest\n",
    "# Write a Python program to compute the future value of a specified principal amount, rate of interest, and a number of years\n",
    "# Program Console Sample Output 1:\n",
    "\n",
    "a = int(input(\"Please enter principal amount: \"))\n",
    "b = float(input(\"Please Enter Rate of interest in %: \"))\n",
    "c = int(input(\"Enter number of years for investment: \"))\n",
    "d = 0\n",
    "e = a * b * 10\n",
    "while d < c:\n",
    "    e += e * b\n",
    "    d += 1\n",
    "    \n",
    "print(\"After\",c,\"years your principal amount\",a,\"over an interest rate of\",b,\"% will be\",e)"
   ]
  },
  {
   "cell_type": "code",
   "execution_count": 17,
   "metadata": {},
   "outputs": [
    {
     "name": "stdout",
     "output_type": "stream",
     "text": [
      "Enter Co-ordinate for x1: 2\n",
      "Enter Co-ordinate for x2: 4\n",
      "Enter Co-ordinate for y1: 4\n",
      "Enter Co-ordinate for y2: 4\n",
      "Distance between points ( 2 , 4 ) and ( 4 , 4 ) is 2\n"
     ]
    }
   ],
   "source": [
    "# 11. Euclidean distance\n",
    "# Write a Python program to compute the distance between the points (x1, y1) and (x2, y2).\n",
    "# Program Console Sample Output 1:\n",
    "\n",
    "import math\n",
    "a = int(input(\"Enter Co-ordinate for x1: \"))\n",
    "b = int(input(\"Enter Co-ordinate for x2: \"))\n",
    "c = int(input(\"Enter Co-ordinate for y1: \"))\n",
    "d = int(input(\"Enter Co-ordinate for y2: \"))\n",
    "e = (a - b)*(a - b) + (c - d)*(c - d)\n",
    "f = math.sqrt(e)\n",
    "print(\"Distance between points (\",a,\",\",c,\") and (\",b,\",\",d,\") is\",int(f))"
   ]
  },
  {
   "cell_type": "code",
   "execution_count": 18,
   "metadata": {},
   "outputs": [
    {
     "name": "stdout",
     "output_type": "stream",
     "text": [
      "Enter Height in Feet: 5\n",
      "There are 152.4 Cm in 5 ft\n"
     ]
    }
   ],
   "source": [
    "# 12. Feet to Centimeter Converter\n",
    "# Write a Python program to convert height in feet to centimetres.\n",
    "# Program Console Sample Output 1:\n",
    "\n",
    "d_ft = float(input(\"Enter Height in Feet: \"))\n",
    "d_cm = float(d_ft) * 30.48\n",
    "\n",
    "print(\"There are\",d_cm,\"Cm in\",int(d_ft),\"ft\")"
   ]
  },
  {
   "cell_type": "code",
   "execution_count": 19,
   "metadata": {},
   "outputs": [
    {
     "name": "stdout",
     "output_type": "stream",
     "text": [
      "Enter Height in Cm: 180\n",
      "Enter Weight in Kg: 75\n",
      "Your BMI is 23.148148148148145\n"
     ]
    }
   ],
   "source": [
    "# 13. BMI Calculator\n",
    "# Write a Python program to calculate body mass index\n",
    "# Program Console Sample Output 1:\n",
    "\n",
    "a = float(input(\"Enter Height in Cm: \"))\n",
    "b = float(input(\"Enter Weight in Kg: \"))\n",
    "c = a * 0.01\n",
    "d = b / (c * c)\n",
    "print(\"Your BMI is\",d)"
   ]
  },
  {
   "cell_type": "code",
   "execution_count": 20,
   "metadata": {},
   "outputs": [
    {
     "name": "stdout",
     "output_type": "stream",
     "text": [
      "Enter value of n: 5\n",
      "Sum of n Positive integers till 5 is 15\n"
     ]
    }
   ],
   "source": [
    "# 14. Sum of n Positive Integers\n",
    "# Write a python program to sum of the first n positive integers\n",
    "# Program Console Sample Output 1:\n",
    "\n",
    "n = int(input(\"Enter value of n: \"))\n",
    "sum_num = (n * (n + 1)) / 2\n",
    "print(\"Sum of n Positive integers till\",n,\"is\",int(sum_num))"
   ]
  },
  {
   "cell_type": "code",
   "execution_count": 21,
   "metadata": {},
   "outputs": [
    {
     "name": "stdout",
     "output_type": "stream",
     "text": [
      "Enter a number: 15\n",
      "Sum of 1 + 5 is 6\n"
     ]
    }
   ],
   "source": [
    "# 15. Digits Sum of a Number\n",
    "# Write a Python program to calculate the sum of the digits in an integer\n",
    "# Program Console Sample Output 1:\n",
    "\n",
    "num = str(input(\"Enter a number: \"))\n",
    "x = 0 \n",
    "for y in num:\n",
    "    x += int(y)\n",
    "print(\"Sum of\", ' + '.join(map(str,num)) ,\"is\",x)"
   ]
  },
  {
   "cell_type": "code",
   "execution_count": 22,
   "metadata": {},
   "outputs": [
    {
     "name": "stdout",
     "output_type": "stream",
     "text": [
      "Enter a number: 1234\n",
      "Sum of 1 + 2 + 3 + 4 is 10\n"
     ]
    }
   ],
   "source": [
    "# 15. Digits Sum of a Number\n",
    "# Write a Python program to calculate the sum of the digits in an integer\n",
    "# Program Console Sample Output 2:\n",
    "\n",
    "num = str(input(\"Enter a number: \"))\n",
    "x = 0 \n",
    "for y in num:\n",
    "    x += int(y)\n",
    "print(\"Sum of\", ' + '.join(map(str,num)) ,\"is\",x)"
   ]
  },
  {
   "cell_type": "code",
   "execution_count": 23,
   "metadata": {},
   "outputs": [
    {
     "name": "stdout",
     "output_type": "stream",
     "text": [
      "Enter a decimal number: 5\n",
      "Binary Reperesentation of 5 is 101\n"
     ]
    }
   ],
   "source": [
    "# 16. Decimal to Binary Converter\n",
    "# Write a Python program to convert an decimal integer to binary\n",
    "# Program Console Sample Output 1:\n",
    "\n",
    "dec = int(input(\"Enter a decimal number: \"))\n",
    "num = bin(dec)\n",
    "print(\"Binary Reperesentation of\",dec,\"is\",num[2:])"
   ]
  },
  {
   "cell_type": "code",
   "execution_count": 24,
   "metadata": {},
   "outputs": [
    {
     "name": "stdout",
     "output_type": "stream",
     "text": [
      "Enter a decimal number: 32\n",
      "Binary Reperesentation of 32 is 100000\n"
     ]
    }
   ],
   "source": [
    "# 16. Decimal to Binary Converter\n",
    "# Write a Python program to convert an decimal integer to binary\n",
    "# Program Console Sample Output 2:\n",
    "\n",
    "dec = int(input(\"Enter a decimal number: \"))\n",
    "num = bin(dec)\n",
    "print(\"Binary Reperesentation of\",dec,\"is\",num[2:])"
   ]
  },
  {
   "cell_type": "code",
   "execution_count": 25,
   "metadata": {},
   "outputs": [
    {
     "name": "stdout",
     "output_type": "stream",
     "text": [
      "Enter a Binary number: 1101\n",
      "Decimal Reperesentation of 1101 is 13\n"
     ]
    }
   ],
   "source": [
    "# 17. Binary to Decimal Converter\n",
    "# Write a program to convert binary number to Decimal number\n",
    "# Program Console Sample Output 1:\n",
    "\n",
    "bi = input(\"Enter a Binary number: \")\n",
    "num = int(bi,2)\n",
    "print(\"Decimal Reperesentation of\",bi,\"is\",num)"
   ]
  },
  {
   "cell_type": "code",
   "execution_count": 26,
   "metadata": {},
   "outputs": [
    {
     "name": "stdout",
     "output_type": "stream",
     "text": [
      "Enter a Binary number: 1001\n",
      "Decimal Reperesentation of 1001 is 9\n"
     ]
    }
   ],
   "source": [
    "# 17. Binary to Decimal Converter\n",
    "# Write a program to convert binary number to Decimal number\n",
    "# Program Console Sample Output 2:\n",
    "\n",
    "bi = input(\"Enter a Binary number: \")\n",
    "num = int(bi,2)\n",
    "print(\"Decimal Reperesentation of\",bi,\"is\",num)"
   ]
  },
  {
   "cell_type": "code",
   "execution_count": 27,
   "metadata": {},
   "outputs": [
    {
     "name": "stdout",
     "output_type": "stream",
     "text": [
      "Enter text: QuickBrownFoxJumpsovertheDog\n",
      "\n",
      "Vowels: 9\n",
      "Consonants: 19\n"
     ]
    }
   ],
   "source": [
    "# 18. Vowel and Consonants Counter\n",
    "# Input a text and count the occurrences of vowels and consonant\n",
    "# Program Console Sample Output 1:\n",
    "\n",
    "str1 = input(\"Enter text: \")\n",
    "vowels = 0\n",
    "consonants = 0\n",
    "\n",
    "for i in str1:\n",
    "    if(i == 'a' or i == 'e' or i == 'i' or i == 'o' or i == 'u'\n",
    "       or i == 'A' or i == 'E' or i == 'I' or i == 'O' or i == 'U'):\n",
    "        vowels = vowels + 1\n",
    "    else:\n",
    "        consonants = consonants + 1\n",
    "\n",
    "print()\n",
    "print(\"Vowels:\",vowels)\n",
    "print(\"Consonants:\",consonants)"
   ]
  },
  {
   "cell_type": "code",
   "execution_count": 28,
   "metadata": {},
   "outputs": [
    {
     "name": "stdout",
     "output_type": "stream",
     "text": [
      "Enter text: AHA\n",
      "It is palindrome\n"
     ]
    }
   ],
   "source": [
    "# 19. Palindrome tester\n",
    "# Write a program to check whether given input is palindrome or not\n",
    "# Program Console Sample Output 1:\n",
    "\n",
    "my_str = input(\"Enter text: \")\n",
    "my_str = my_str.casefold()\n",
    "rev_str = reversed(my_str)\n",
    "\n",
    "if list(my_str) == list(rev_str):\n",
    "   print(\"It is palindrome\")\n",
    "else:\n",
    "   print(\"It is not palindrome\")"
   ]
  },
  {
   "cell_type": "code",
   "execution_count": 29,
   "metadata": {},
   "outputs": [
    {
     "name": "stdout",
     "output_type": "stream",
     "text": [
      "Enter text: Hello\n",
      "It is not palindrome\n"
     ]
    }
   ],
   "source": [
    "# 19. Palindrome tester\n",
    "# Write a program to check whether given input is palindrome or not\n",
    "# Program Console Sample Output 2:\n",
    "\n",
    "my_str = input(\"Enter text: \")\n",
    "my_str = my_str.casefold()\n",
    "rev_str = reversed(my_str)\n",
    "\n",
    "if list(my_str) == list(rev_str):\n",
    "   print(\"It is palindrome\")\n",
    "else:\n",
    "   print(\"It is not palindrome\")"
   ]
  },
  {
   "cell_type": "code",
   "execution_count": 30,
   "metadata": {},
   "outputs": [
    {
     "name": "stdout",
     "output_type": "stream",
     "text": [
      "Enter text: Python 3.2\n",
      "Numbers = 2\n",
      "Alphabets = 6\n",
      "Special Characters = 1\n",
      "Spaces = 1\n"
     ]
    }
   ],
   "source": [
    "# 20. Count Alphabets, Numbers and Special Characters\n",
    "# Write a Python program that accepts a string and calculate the number of digits and letters\n",
    "# Program Console Sample Output 1:\n",
    "\n",
    "txt = input(\"Enter text: \")\n",
    "a = 0\n",
    "b = 0\n",
    "c = 0\n",
    "d = 0\n",
    "for x in txt:\n",
    "    if int(ord(x)) >= 65 and int(ord(x)) <= 122:\n",
    "        a += 1\n",
    "    elif int(ord(x)) >= 48 and int(ord(x)) <= 57:\n",
    "        b += 1\n",
    "    elif x == \" \":\n",
    "        d += 1\n",
    "    else:\n",
    "        c += 1\n",
    "print(\"Numbers =\",b)\n",
    "print(\"Alphabets =\",a)\n",
    "print(\"Special Characters =\",c)\n",
    "print(\"Spaces =\",d)"
   ]
  },
  {
   "cell_type": "code",
   "execution_count": 31,
   "metadata": {},
   "outputs": [
    {
     "name": "stdout",
     "output_type": "stream",
     "text": [
      "\n",
      "* \n",
      "* * \n",
      "* * * \n",
      "* * * * \n",
      "* * * * * \n",
      "* * * * \n",
      "* * * \n",
      "* * \n",
      "* \n"
     ]
    }
   ],
   "source": [
    "# 21. Write a Python program to construct the following pattern\n",
    "\n",
    "n=5;\n",
    "for i in range(n):\n",
    "    for j in range(i):\n",
    "        print ('* ', end=\"\")\n",
    "    print('')\n",
    "\n",
    "for i in range(n,0,-1):\n",
    "    for j in range(i):\n",
    "        print('* ', end=\"\")\n",
    "    print('')"
   ]
  },
  {
   "cell_type": "code",
   "execution_count": 32,
   "metadata": {},
   "outputs": [
    {
     "name": "stdout",
     "output_type": "stream",
     "text": [
      "1\n",
      "12\n",
      "123\n",
      "1234\n",
      "12345\n",
      "1234\n",
      "123\n",
      "12\n",
      "1\n",
      "\n"
     ]
    }
   ],
   "source": [
    "# 22. Write a Python program to construct the following pattern\n",
    "\n",
    "my_string = \"12345\"\n",
    "x = 0\n",
    "\n",
    "for i in my_string:\n",
    "    x = x + 1\n",
    "    print(my_string[0:x])\n",
    "\n",
    "for i in my_string:\n",
    "    x = x - 1\n",
    "    print(my_string[0:x])"
   ]
  },
  {
   "cell_type": "code",
   "execution_count": 33,
   "metadata": {},
   "outputs": [
    {
     "name": "stdout",
     "output_type": "stream",
     "text": [
      "\n",
      "1\n",
      "22\n",
      "333\n",
      "4444\n",
      "55555\n",
      "666666\n",
      "7777777\n",
      "88888888\n",
      "999999999\n"
     ]
    }
   ],
   "source": [
    "# 23. Write a Python program to construct the following pattern\n",
    "\n",
    "for i in range(10):\n",
    "    print(str(i) * i)"
   ]
  }
 ],
 "metadata": {
  "kernelspec": {
   "display_name": "Python 3",
   "language": "python",
   "name": "python3"
  },
  "language_info": {
   "codemirror_mode": {
    "name": "ipython",
    "version": 3
   },
   "file_extension": ".py",
   "mimetype": "text/x-python",
   "name": "python",
   "nbconvert_exporter": "python",
   "pygments_lexer": "ipython3",
   "version": "3.7.1"
  }
 },
 "nbformat": 4,
 "nbformat_minor": 2
}
